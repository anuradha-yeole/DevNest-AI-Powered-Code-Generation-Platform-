{
  "nbformat": 4,
  "nbformat_minor": 0,
  "metadata": {
    "colab": {
      "provenance": []
    },
    "kernelspec": {
      "name": "python3",
      "display_name": "Python 3"
    },
    "language_info": {
      "name": "python"
    }
  },
  "cells": [
    {
      "cell_type": "code",
      "execution_count": null,
      "metadata": {
        "colab": {
          "base_uri": "https://localhost:8080/"
        },
        "id": "6GMhbxw4QyNi",
        "outputId": "0b6bd8b5-2c13-49c4-8f95-8e7b1bb46ffa"
      },
      "outputs": [
        {
          "output_type": "stream",
          "name": "stdout",
          "text": [
            "\u001b[2K     \u001b[90m━━━━━━━━━━━━━━━━━━━━━━━━━━━━━━━━━━━━━━━━\u001b[0m \u001b[32m133.2/133.2 kB\u001b[0m \u001b[31m3.0 MB/s\u001b[0m eta \u001b[36m0:00:00\u001b[0m\n",
            "\u001b[2K     \u001b[90m━━━━━━━━━━━━━━━━━━━━━━━━━━━━━━━━━━━━━━━━\u001b[0m \u001b[32m267.9/267.9 kB\u001b[0m \u001b[31m13.6 MB/s\u001b[0m eta \u001b[36m0:00:00\u001b[0m\n",
            "\u001b[?25h"
          ]
        }
      ],
      "source": [
        "!pip install -q google-generativeai"
      ]
    },
    {
      "cell_type": "code",
      "source": [
        "import pprint\n",
        "import google.generativeai as palm"
      ],
      "metadata": {
        "id": "izEvN4T7RBXR"
      },
      "execution_count": null,
      "outputs": []
    },
    {
      "cell_type": "code",
      "source": [
        "palm.configure(api_key='')"
      ],
      "metadata": {
        "id": "7kzjJnBgRBwC"
      },
      "execution_count": null,
      "outputs": []
    },
    {
      "cell_type": "code",
      "source": [
        "models = [m for m in palm.list_models() if 'generateText' in m.supported_generation_methods]\n",
        "model = models[0].name"
      ],
      "metadata": {
        "id": "u30JdoVZRGPk"
      },
      "execution_count": null,
      "outputs": []
    },
    {
      "cell_type": "code",
      "source": [
        "prompt = \"\"\"\n",
        "You are a Senior Software Developer.\n",
        "\n",
        "I want to create a form using react which takes in the user input as name,age,date of birth,sex,college and a submit button.\n",
        "\"\"\"\n",
        "\n",
        "completion = palm.generate_text(\n",
        "    model=model,\n",
        "    prompt=prompt,\n",
        "    temperature=0,\n",
        "    # The maximum length of the response\n",
        "    max_output_tokens=1000,\n",
        ")\n",
        "\n",
        "print(completion.result)"
      ],
      "metadata": {
        "colab": {
          "base_uri": "https://localhost:8080/"
        },
        "id": "854cNY5tRK3B",
        "outputId": "fcd5d29f-f348-45c8-a69e-6c096469fa62"
      },
      "execution_count": null,
      "outputs": [
        {
          "output_type": "stream",
          "name": "stdout",
          "text": [
            "```jsx\n",
            "import React, { useState } from \"react\";\n",
            "import { Form, Button } from \"react-bootstrap\";\n",
            "\n",
            "const FormInput = ({ name, onChange }) => {\n",
            "  const [value, setValue] = useState(\"\");\n",
            "\n",
            "  return (\n",
            "    <Form.Group>\n",
            "      <Form.Label>{name}</Form.Label>\n",
            "      <Form.Control\n",
            "        type=\"text\"\n",
            "        placeholder=\"Enter your name\"\n",
            "        value={value}\n",
            "        onChange={(e) => setValue(e.target.value)}\n",
            "      />\n",
            "    </Form.Group>\n",
            "  );\n",
            "};\n",
            "\n",
            "const FormComponent = () => {\n",
            "  const [name, setName] = useState(\"\");\n",
            "  const [age, setAge] = useState(\"\");\n",
            "  const [dateOfBirth, setDateOfBirth] = useState(\"\");\n",
            "  const [sex, setSex] = useState(\"\");\n",
            "  const [college, setCollege] = useState(\"\");\n",
            "\n",
            "  const handleSubmit = (e) => {\n",
            "    e.preventDefault();\n",
            "    console.log(name, age, dateOfBirth, sex, college);\n",
            "  };\n",
            "\n",
            "  return (\n",
            "    <div>\n",
            "      <Form onSubmit={handleSubmit}>\n",
            "        <FormInput name=\"Name\" onChange={setName} />\n",
            "        <FormInput name=\"Age\" onChange={setAge} />\n",
            "        <FormInput name=\"Date of Birth\" onChange={setDateOfBirth} />\n",
            "        <FormInput name=\"Sex\" onChange={setSex} />\n",
            "        <FormInput name=\"College\" onChange={setCollege} />\n",
            "        <Button type=\"submit\">Submit</Button>\n",
            "      </Form>\n",
            "    </div>\n",
            "  );\n",
            "};\n",
            "\n",
            "export default FormComponent;\n",
            "```\n"
          ]
        }
      ]
    },
    {
      "cell_type": "code",
      "source": [],
      "metadata": {
        "id": "T65-QKbSRtGk"
      },
      "execution_count": null,
      "outputs": []
    }
  ]
}